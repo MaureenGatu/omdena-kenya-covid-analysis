{
  "nbformat": 4,
  "nbformat_minor": 0,
  "metadata": {
    "colab": {
      "name": "Pdf Scrapper.ipynb",
      "provenance": [],
      "collapsed_sections": []
    },
    "kernelspec": {
      "name": "python3",
      "display_name": "Python 3"
    },
    "language_info": {
      "name": "python"
    }
  },
  "cells": [
    {
      "cell_type": "code",
      "metadata": {
        "id": "VQGfRKTO1_IX"
      },
      "source": [
        "# import the packages\n",
        "import spacy\n",
        "import re\n",
        "import pandas as pd\n",
        "\n",
        "from PyPDF2 import PdfFileReader\n",
        "from nltk.tokenize import word_tokenize\n",
        "from itertools import compress\n",
        "\n",
        "from pathlib import Path\n",
        "import webbrowser\n",
        "\n",
        "sp = spacy.load('en_core_web_sm')\n",
        "all_stopwords = sp.Defaults.stop_words"
      ],
      "execution_count": 2,
      "outputs": []
    },
    {
      "cell_type": "code",
      "metadata": {
        "id": "ZCSi-elp2gdP"
      },
      "source": [
        "# file_path = open('./pdf/REVISED-PRESS-RELEASE-SUNDAY-19TH-JULY-2020-1.pdf','rb')\n",
        "# file_path = open('./pdf/Press-Statement-on-Covid-19-10th-August-2021.pdf','rb')\n",
        "# file_path = open('./pdf/Press-Statement-on-Covid-19-9th-September-2021.pdf','rb')\n",
        "file_path = open('/content/Press-Statement-on-Covid-19-1st-August-2021.pdf','rb')\n",
        "\n",
        "pdf = PdfFileReader(file_path)"
      ],
      "execution_count": 3,
      "outputs": []
    },
    {
      "cell_type": "code",
      "metadata": {
        "id": "-gPQYT9jEcdL"
      },
      "source": [
        "i = 0\n",
        "text = ''\n",
        "while i < pdf.getNumPages():\n",
        "    pageinfo = pdf.getPage(i)\n",
        "    text = text + ''.join(pageinfo.extractText())\n",
        "    text = text.replace(\"\\n\", \"\").strip() \n",
        "\n",
        "    i+=1\n"
      ],
      "execution_count": 4,
      "outputs": []
    },
    {
      "cell_type": "code",
      "metadata": {
        "id": "9Claju-MEv2i"
      },
      "source": [
        "text_tokens = word_tokenize(text) # Tokenize the text\n",
        "tokens_without_sw = [word for word in text_tokens if not word in all_stopwords] # remove stopwords\n",
        "textString = ' '.join([str(elem) for elem in tokens_without_sw]) # convert the list to strings\n",
        "textString  = re.sub(r'[()]?','',textString) # Clean the string data\n",
        "textString = textString.replace(',','').strip() # replace commas with spaces\n",
        "\n",
        "textString = textString.replace(\"Homa Bay\", \"HomaBay\")\n",
        "textString = textString.replace(\"West Pokot\",\"WestPokot\")\n",
        "textString = textString.replace(\"Tharaka Nithi \",\"TharakaNithi \")\n",
        "textString = textString.replace(\"Murang’a\",\"Muranga\") \n",
        "textString = textString.replace(\"Tana River\",\"TanaRiver\")\n",
        "textString = textString.replace(\"Taita Taveta\",\"TaitaTaveta\")\n",
        "textString = textString.replace(\"Trans Nzoia\",\"TransNzoia\")\n",
        "textString = textString.replace(\"Uasin Gishu\",\"UasinGishu\")\n",
        "textString = textString.replace(\"Elgeyo Marakwet\",\"ElgeyoMarakwet\")"
      ],
      "execution_count": 5,
      "outputs": []
    },
    {
      "cell_type": "code",
      "metadata": {
        "id": "Jgb-SI60S_pd"
      },
      "source": [
        "# List of all the counties\n",
        "counties = ['Mombasa', 'Kwale', 'Kilifi', 'TanaRiver', 'Lamu', 'TaitaTaveta', 'Garissa', 'Wajir', 'Mandera', 'Marsabit', \n",
        "'Isiolo', 'Meru', 'TharakaNithi', 'Embu', 'Kitui', 'Machakos', 'Makueni', 'Nyandarua', 'Nyeri', 'Kirinyaga', 'Muranga', \n",
        "'Kiambu', 'Turkana', 'WestPokot', 'Samburu', 'TransNzoia', 'UasinGishu', 'ElgeyoMarakwet', 'Nandi', 'Baringo', 'Laikipia', \n",
        "'Nakuru', 'Narok', 'Kajiado', 'Kericho', 'Bomet', 'Kakamega', 'Vihiga', 'Bungoma', 'Busia', 'Siaya', 'Kisumu', 'HomaBay', \n",
        "'Migori', 'Kisii', 'Nyamira', 'Nairobi']"
      ],
      "execution_count": 6,
      "outputs": []
    },
    {
      "cell_type": "code",
      "metadata": {
        "id": "vf-F4uUDTO8a"
      },
      "source": [
        "# check for counties that had positive cases in the day\n",
        "def check_strings(counties, text):\n",
        "    regexp = re.compile('|'.join([re.escape(x) for x in counties]))\n",
        "    found = set(regexp.findall(text))\n",
        "    return [x in found for x in counties]"
      ],
      "execution_count": 7,
      "outputs": []
    },
    {
      "cell_type": "code",
      "metadata": {
        "id": "yAUciQGCTTJC"
      },
      "source": [
        "counties_in_bool = check_strings(counties, textString)\n",
        "counties_in_names = list(compress(counties, counties_in_bool)) # names of counties that had positive cases on the day"
      ],
      "execution_count": 8,
      "outputs": []
    },
    {
      "cell_type": "code",
      "metadata": {
        "id": "uAFWgSuGTYAc"
      },
      "source": [
        "# Find a patter of names with numbers that correspond to county name and recorded number of positive cases\n",
        "day = []\n",
        "pattern = re.findall('([A-Za-z]+\\s*[A-Za-z]*\\s*[A-Za-z]*\\s*[A-Za-z]*\\s*[A-Za-z]*\\s*[A-Za-z]*)\\s?(\\d+)',textString)\n",
        "for p in pattern:\n",
        "    n = len(p[0].split())\n",
        "    if n == 1:\n",
        "        if p[0].strip() in counties_in_names:\n",
        "            day.append(p)\n",
        "    else:\n",
        "        for i in range(n):\n",
        "            if (p[0].split())[i].strip() in counties_in_names:\n",
        "                day.append((p[0].split()[i],p[1]))\n",
        "day = set(day)"
      ],
      "execution_count": 9,
      "outputs": []
    },
    {
      "cell_type": "code",
      "metadata": {
        "id": "VGLFKOmiTbYv"
      },
      "source": [
        "pd_day = pd.DataFrame(day, columns = ['County','New Positive cases'])\n",
        "pd_day['New Positive cases'] = pd.to_numeric(pd_day['New Positive cases'],errors='coerce')"
      ],
      "execution_count": 10,
      "outputs": []
    },
    {
      "cell_type": "code",
      "metadata": {
        "id": "pbGfDh9BTf8n"
      },
      "source": [
        "pd_day.sort_values(by='New Positive cases',ascending=False)\n",
        "pd_day.to_excel('August01.xlsx',sheet_name='August01')"
      ],
      "execution_count": 14,
      "outputs": []
    }
  ]
}
