{
  "nbformat": 4,
  "nbformat_minor": 0,
  "metadata": {
    "colab": {
      "name": "New Cases and Deaths Scraping.ipynb",
      "provenance": [],
      "collapsed_sections": [],
      "include_colab_link": true
    },
    "kernelspec": {
      "display_name": "Python 3",
      "name": "python3"
    },
    "language_info": {
      "name": "python"
    }
  },
  "cells": [
    {
      "cell_type": "markdown",
      "metadata": {
        "id": "view-in-github",
        "colab_type": "text"
      },
      "source": [
        "<a href=\"https://colab.research.google.com/github/MaureenGatu/omdena-kenya-covid-analysis/blob/main/New_Cases_and_Deaths_Scraping.ipynb\" target=\"_parent\"><img src=\"https://colab.research.google.com/assets/colab-badge.svg\" alt=\"Open In Colab\"/></a>"
      ]
    },
    {
      "cell_type": "code",
      "metadata": {
        "id": "EGntRetRJMXa"
      },
      "source": [
        "##################################\n",
        "#\n",
        "# Script to scrape PDF documents\n",
        "#   from https://www.youtube.com/watch?v=VDd6dVrYzao\n",
        "#\n",
        "#              by\n",
        "#\n",
        "#       Code Monkey King\n",
        "#\n",
        "##################################\n",
        "\n",
        "#Install libraries\n",
        "%%capture\n",
        "!pip install BeautifulSoup\n",
        "!pip install requests\n",
        "!pip install lxml\n",
        "# packages\n",
        "import requests\n",
        "from bs4 import BeautifulSoup\n",
        "from urllib.request import unquote\n",
        "\n",
        "# target URL\n",
        "url = 'https://www.health.go.ke/press-releases/'\n",
        "\n",
        "# make HTTP GET request to the target URL\n",
        "print('HTTP GET: %s', url)\n",
        "response = requests.get(url)\n",
        "\n",
        "# parse content\n",
        "content = BeautifulSoup(response.text, 'lxml')\n",
        "\n",
        "# extract URLs referencing PDF documents\n",
        "all_urls = content.find_all('a')\n",
        "\n",
        "# loop over all URLs\n",
        "for url in all_urls:\n",
        "    # try URLs containing 'href' attribute\n",
        "    try:\n",
        "        # pick up only those URLs containing 'pdf'\n",
        "        # within 'href' attribute\n",
        "        if 'pdf' in url['href']:\n",
        "            # init PDF url\n",
        "            pdf_url = ''\n",
        "            \n",
        "            # append base URL if no 'https' available in URL\n",
        "            if 'https' not in url['href']:\n",
        "                pdf_url = 'https://www.health.go.ke/press-releases/' + url['href']\n",
        "\n",
        "            # otherwise use bare URL\n",
        "            else:\n",
        "                pdf_url = url['href']\n",
        "                pdf = []\n",
        "            \n",
        "            # make HTTP GET request to fetch PDF bytes\n",
        "            print('HTTP GET: %s', pdf_url)          \n",
        "            pdf_response = requests.get(pdf_url)\n",
        "\n",
        "            \n",
        "            # extract  PDF file name\n",
        "            filename = unquote(pdf_response.url).split('/')[-1].replace(' ', '_')\n",
        "            \n",
        "            # write PDF to local file\n",
        "            with open('/content/data_pdfs/' + filename, 'wb') as f:\n",
        "            #with open('/content/data.pdf', 'wb') as f:\n",
        "                # write PDF to local file\n",
        "                f.write(pdf_response.content)\n",
        "    \n",
        "    # skip all the other URLs\n",
        "    except:\n",
        "        pass"
      ],
      "execution_count": null,
      "outputs": []
    },
    {
      "cell_type": "code",
      "metadata": {
        "id": "UlJpcSyU-U_4"
      },
      "source": [
        "# Install pyPDF package\n",
        "%%capture\n",
        "!pip install PyPDF2\n",
        "\n",
        "# Import libraries\n",
        "import re\n",
        "import PyPDF2\n",
        "import pandas as pd"
      ],
      "execution_count": null,
      "outputs": []
    },
    {
      "cell_type": "code",
      "metadata": {
        "id": "EB3xPOnS9oPL"
      },
      "source": [
        "def extract_county_cases(text):\n",
        "  \n",
        "  #For counties with 2 names, change it to one name.\n",
        "  text = re.sub(r'\\band\\b','',text) \n",
        "  text = re.sub(r'[()]?[,]?[.]?\\.?','',text) \n",
        "  text = text.replace(\"Homa Bay\", \"HomaBay\")\n",
        "  text = text.replace(\"West Pokot\",\"WestPokot\")\n",
        "  text = text.replace(\"Tharaka Nithi \",\"TharakaNithi \")\n",
        "  text = text.replace(\"Murang’a\",\"Muranga\")\n",
        "  #Tana \n",
        "  text = text.replace(\"Tana River\",\"TanaRiver\")\n",
        "  #Taita/Taveta\n",
        "  text = text.replace(\"Taita Taveta\",\"TaitaTaveta\")\n",
        "  #Trans Nzoia\n",
        "  text = text.replace(\"Trans Nzoia\",\"TransNzoia\")\n",
        "  #Uasin Gishu\n",
        "  text = text.replace(\"Uasin Gishu\",\"UasinGishu\")\n",
        "  #Elgeyo/Marakwet\n",
        "  text = text.replace(\"Elgeyo Marakwet\",\"ElgeyoMarakwet\")\n",
        "  per_county21= text.split()\n",
        "  #print(per_county21)\n",
        "  \n",
        "  county_data = pd.DataFrame()\n",
        "  county_data['Names'] = per_county21\n",
        "  county_data['count'] = county_data['Names']\n",
        "\n",
        "  #county_data.loc[county_data.Names == county_data.count, \"count\"] = ''\n",
        "  # df.iloc[::2]\n",
        "  just_county = county_data.iloc[::2].reset_index()\n",
        "  just_county.drop('index',axis = 1, inplace= True)\n",
        "  just_county\n",
        "  vals = county_data.iloc[1::2].reset_index()\n",
        "  just_county['count'] = vals['count']\n",
        "  return just_county"
      ],
      "execution_count": null,
      "outputs": []
    },
    {
      "cell_type": "code",
      "metadata": {
        "id": "foXkk1Wh94O4"
      },
      "source": [
        "# remove parenthesis\n",
        "def parenthesis(text):\n",
        "  import re\n",
        "  text=text.strip()\n",
        "  #text = re.sub(r'Distribution of positive cases by age is as follows; ', '', text)\n",
        "  text = re.sub(r'[a-zA-Z\\s;]', '',text)\n",
        "  text=re.sub(r'[\\n]+', ' ',text)\n",
        "  text=re.sub(r'[\\s]+', '',text)\n",
        "  text = re.sub(r'[()\\s.]',' ',text)\n",
        "  text = re.sub(r'[,]','',text)\n",
        "  text = re.sub(r'\\\\n\\s+',' ',text)\n",
        "  text = re.sub(r'years',' ',text)\n",
        "  text = re.sub(r'and',' ',text)\n",
        "  text = re.sub(r'above',' ',text)\n",
        "  return text"
      ],
      "execution_count": null,
      "outputs": []
    },
    {
      "cell_type": "code",
      "metadata": {
        "id": "ILvV-l2S-ApX"
      },
      "source": [
        "# importing required modules \n",
        "%%capture\n",
        "import PyPDF2\n",
        "import re\n",
        "\n",
        "def clean(text):\n",
        "  # text = re.sub(\"Murang’a\",'Muranga',text)\n",
        "  # text = re.sub('^\\n\\d[\\n\\s?\\n?]*','',text)\n",
        "  \n",
        "  text = re.sub('\\n*','',text)\n",
        "  return text    \n",
        "# creating a pdf file object \n",
        "pdfFileObj = open('/content/drive/MyDrive/Data Science/data_pdfs/Press-Statement-on-Covid-19-10th-August-2021.pdf', 'rb') \n",
        "    \n",
        "# creating a pdf reader object \n",
        "pdfReader = PyPDF2.PdfFileReader(pdfFileObj) \n",
        "pdf = []   \n",
        "# printing number of pages in pdf file \n",
        "print(pdfReader.numPages) \n",
        "i = 0\n",
        "for i in range(0,pdfReader.numPages):    \n",
        "  # creating a page object \n",
        "  pageObj = pdfReader.getPage(i) \n",
        "  i +=1   \n",
        "  # extracting text from page \n",
        "  # import re\n",
        "  extract = clean(pageObj.extractText())\n",
        "  pdf.append(extract)\n",
        "  i +=1\n",
        "  # extract = extract.strip()\n",
        "  # extract=re.sub(r'[\\s]+', '',extract)\n",
        "  print(pageObj.extractText())\n",
        "  # print(extract)\n",
        "  full_text = ' '.join(pdf)  \n",
        "# closing the pdf file object \n",
        "pdfFileObj.close()\n"
      ],
      "execution_count": null,
      "outputs": []
    },
    {
      "cell_type": "code",
      "metadata": {
        "id": "L1cNyjU0-Fyf"
      },
      "source": [
        "# County distribution\n",
        "def county_distribution(extracted_text):\n",
        "  start = extracted_text.find('In terms of County distribution; ') + 33\n",
        "  end = extracted_text.find('.', start)\n",
        "  new_cases_percounty = extracted_text[start:end]\n",
        "  # new_cases_percounty = parenthesis(new_cases_percounty)\n",
        "  new_cases_percounty = extract_county_cases(new_cases_percounty)\n",
        "  new_cases_percounty.rename(columns={'Names': 'Age_group', 'count': 'New_cases_percounty'}, inplace = True)\n",
        "  return new_cases_percounty\n",
        "  # return extracted_text[start:end]\n",
        "\n",
        "county_distribution(full_text)"
      ],
      "execution_count": null,
      "outputs": []
    },
    {
      "cell_type": "code",
      "metadata": {
        "id": "slosKEow-I7Q"
      },
      "source": [
        "# positive cases by age\n",
        "def age_positive(text):\n",
        "  start = text.find('Distribution of positive cases by age is as follows; ') + 53\n",
        "  end = text.find('.', start)\n",
        "  new_cases = text[start:end]\n",
        "  new_cases = parenthesis(new_cases)\n",
        "  new_cases = extract_county_cases(new_cases)\n",
        "  new_cases.rename(columns={'Names': 'Age_group', 'count': 'New_cases'}, inplace = True)\n",
        "  return new_cases\n",
        "  # return text[start:end]\n",
        "\n",
        "age_positive(full_text)"
      ],
      "execution_count": null,
      "outputs": []
    },
    {
      "cell_type": "code",
      "metadata": {
        "id": "r3B1EBHd-L7n"
      },
      "source": [
        "# Deaths by age\n",
        "def deaths_age(text):\n",
        "  start = text.find('New deaths by age; ') + 19\n",
        "  end = text.find('.', start)\n",
        "  total_deaths = text[start:end]\n",
        "  total_deaths = parenthesis(total_deaths)\n",
        "  total_deaths = extract_county_cases(total_deaths)\n",
        "  total_deaths.rename(columns={'Names': 'Age_group', 'count': 'Fatalities'}, inplace = True)\n",
        "  return total_deaths\n",
        "\n",
        "deaths_age(full_text)"
      ],
      "execution_count": null,
      "outputs": []
    }
  ]
}