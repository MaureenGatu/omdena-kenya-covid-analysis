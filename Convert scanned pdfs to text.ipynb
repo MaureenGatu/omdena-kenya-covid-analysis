{
 "cells": [
  {
   "cell_type": "code",
   "execution_count": 1,
   "id": "64ea779b",
   "metadata": {},
   "outputs": [],
   "source": [
    "import os\n",
    "import io\n",
    "import re\n",
    "import spacy\n",
    "import pandas as pd\n",
    "\n",
    "from PIL import Image\n",
    "import pytesseract\n",
    "from wand.image import Image as wi\n",
    "import gc\n",
    "from nltk.tokenize import word_tokenize\n",
    "from itertools import compress\n",
    "\n",
    "sp = spacy.load('en_core_web_sm')\n",
    "all_stopwords = sp.Defaults.stop_words\n",
    "all_stopwords.add('fourteen')"
   ]
  },
  {
   "cell_type": "code",
   "execution_count": 2,
   "id": "68280c4e",
   "metadata": {},
   "outputs": [],
   "source": [
    "# Provide a scanned pdf document\n",
    "# scanned_pdf_path = './pdf/scanned/Update-on-COVID-19-as-at-September-18-2020.pdf'\n",
    "# scanned_pdf_path = './pdf/scanned/UPDATE-ON-COVID-19-3RD-DECEMBER-1.pdf'\n",
    "scanned_pdf_path = './pdf/scanned/Update-on-Coronavirus-Situation-in-the-Country.pdf'\n",
    "# scanned_pdf_path = './pdf/scanned/September-4th-Covid-19-Statement.pdf'\n"
   ]
  },
  {
   "cell_type": "code",
   "execution_count": 3,
   "id": "f323b7fa",
   "metadata": {},
   "outputs": [],
   "source": [
    "def Extract_text_from_scanned_pdf(pdf_file_path):\n",
    "    pdf_file = wi(filename = pdf_file_path,resolution = 300)\n",
    "    pdfImage = pdf_file.convert('jpeg')\n",
    "    \n",
    "    imageBlobs = []\n",
    "    extracted_text = []\n",
    "    \n",
    "    for img in pdfImage.sequence:\n",
    "        page = wi(image = img)\n",
    "        imageBlobs.append(page.make_blob('jpeg'))\n",
    "\n",
    "    for imageBlob in imageBlobs:\n",
    "        im = Image.open(io.BytesIO(imageBlob))\n",
    "        text = pytesseract.image_to_string(im,lang = 'eng')\n",
    "        extracted_text.append(text.strip().replace('\\n', ' ').replace('’', '').replace('-', ''))\n",
    "\n",
    "    return (extracted_text)"
   ]
  },
  {
   "cell_type": "code",
   "execution_count": 4,
   "id": "4c1b5b25",
   "metadata": {},
   "outputs": [],
   "source": [
    "ExtractedText = Extract_text_from_scanned_pdf(scanned_pdf_path)\n",
    "textString = ' '.join([str(elem).strip() for elem in ExtractedText])\n",
    "textString  = re.sub(r\"[()]\",'',textString) # Clean the string data\n",
    "textString = textString.replace(',','').strip() # replace commas with spaces\n",
    "\n",
    "text_tokens = word_tokenize(textString) # Tokenize the text\n",
    "tokens_without_sw = [word for word in text_tokens if not word in all_stopwords] # remove stopwords\n",
    "textString = ' '.join([str(elem) for elem in tokens_without_sw]) # convert the list to strings\n"
   ]
  },
  {
   "cell_type": "code",
   "execution_count": 5,
   "id": "2f357c40",
   "metadata": {},
   "outputs": [],
   "source": [
    "textString = textString.replace(\"Homa Bay\", \"HomaBay\")\n",
    "textString = textString.replace(\"West Pokot\",\"WestPokot\")\n",
    "textString = textString.replace(\"Tharaka Nithi \",\"TharakaNithi \")\n",
    "textString = textString.replace(\"Murang’a\",\"Muranga\") \n",
    "textString = textString.replace(\"Tana River\",\"TanaRiver\")\n",
    "textString = textString.replace(\"Taita Taveta\",\"TaitaTaveta\")\n",
    "textString = textString.replace(\"Trans Nzoia\",\"TransNzoia\")\n",
    "textString = textString.replace(\"Uasin Gishu\",\"UasinGishu\")\n",
    "textString = textString.replace(\"Elgeyo Marakwet\",\"ElgeyoMarakwet\")\n",
    "textString = textString.replace(\"Scanned with CamScanner\", \"\")"
   ]
  },
  {
   "cell_type": "code",
   "execution_count": 6,
   "id": "fb01fb83",
   "metadata": {},
   "outputs": [],
   "source": [
    "# List of all the counties\n",
    "counties = ['Mombasa', 'Kwale', 'Kilifi', 'TanaRiver', 'Lamu', 'TaitaTaveta', 'Garissa', 'Wajir', 'Mandera', 'Marsabit', \n",
    "'Isiolo', 'Meru', 'TharakaNithi', 'Embu', 'Kitui', 'Machakos', 'Makueni', 'Nyandarua', 'Nyeri', 'Kirinyaga', 'Muranga', \n",
    "'Kiambu', 'Turkana', 'WestPokot', 'Samburu', 'TransNzoia', 'UasinGishu', 'ElgeyoMarakwet', 'Nandi', 'Baringo', 'Laikipia', \n",
    "'Nakuru', 'Narok', 'Kajiado', 'Kericho', 'Bomet', 'Kakamega', 'Vihiga', 'Bungoma', 'Busia', 'Siaya', 'Kisumu', 'HomaBay', \n",
    "'Migori', 'Kisii', 'Nyamira', 'Nairobi']"
   ]
  },
  {
   "cell_type": "code",
   "execution_count": 7,
   "id": "d919f485",
   "metadata": {},
   "outputs": [],
   "source": [
    "# check for counties that had positive cases in the day\n",
    "def check_strings(counties, text):\n",
    "    regexp = re.compile('|'.join([re.escape(x) for x in counties]))\n",
    "    found = set(regexp.findall(text))\n",
    "    return [x in found for x in counties]"
   ]
  },
  {
   "cell_type": "code",
   "execution_count": 8,
   "id": "d597153d",
   "metadata": {},
   "outputs": [],
   "source": [
    "counties_in_bool = check_strings(counties, textString)\n",
    "counties_in_names = list(compress(counties, counties_in_bool)) # names of counties that had positive cases on the day"
   ]
  },
  {
   "cell_type": "code",
   "execution_count": 9,
   "id": "20346b34",
   "metadata": {},
   "outputs": [],
   "source": [
    "# Find a patter of names with numbers that correspond to county name and recorded number of positive cases\n",
    "daily_nums = []\n",
    "pattern = re.findall('([A-Za-z]+\\s*[A-Za-z]*\\s*[A-Za-z]*\\s*[A-Za-z]*\\s*[A-Za-z]*\\s*[A-Za-z]*)\\s?(\\d+)',textString)\n",
    "for p in pattern:\n",
    "    n = len(p[0].split())\n",
    "    if n == 1:\n",
    "        if p[0].strip() in counties_in_names:\n",
    "            daily_nums.append(p)\n",
    "    else:\n",
    "        m = p[0].split() # Get the number of words\n",
    "        z = [i in counties_in_names for i in m] # Check if these words are in the counties_in_names\n",
    "        if sum(z) == n:          \n",
    "            for i in range(n):\n",
    "                if (p[0].split())[i].strip() in counties_in_names:\n",
    "                    daily_nums.append((p[0].split()[i],p[1]))\n",
    "                    \n",
    "county_numbers = set(daily_nums)"
   ]
  },
  {
   "cell_type": "code",
   "execution_count": 10,
   "id": "cbfcdb04",
   "metadata": {},
   "outputs": [],
   "source": [
    "pd_day = pd.DataFrame(county_numbers, columns = ['County','New Positive cases'])\n",
    "pd_day['New Positive cases'] = pd.to_numeric(pd_day['New Positive cases'],errors='coerce')"
   ]
  },
  {
   "cell_type": "code",
   "execution_count": 11,
   "id": "84173006",
   "metadata": {},
   "outputs": [
    {
     "data": {
      "text/html": [
       "<div>\n",
       "<style scoped>\n",
       "    .dataframe tbody tr th:only-of-type {\n",
       "        vertical-align: middle;\n",
       "    }\n",
       "\n",
       "    .dataframe tbody tr th {\n",
       "        vertical-align: top;\n",
       "    }\n",
       "\n",
       "    .dataframe thead th {\n",
       "        text-align: right;\n",
       "    }\n",
       "</style>\n",
       "<table border=\"1\" class=\"dataframe\">\n",
       "  <thead>\n",
       "    <tr style=\"text-align: right;\">\n",
       "      <th></th>\n",
       "      <th>County</th>\n",
       "      <th>New Positive cases</th>\n",
       "    </tr>\n",
       "  </thead>\n",
       "  <tbody>\n",
       "    <tr>\n",
       "      <th>0</th>\n",
       "      <td>Nairobi</td>\n",
       "      <td>29</td>\n",
       "    </tr>\n",
       "    <tr>\n",
       "      <th>3</th>\n",
       "      <td>Mombasa</td>\n",
       "      <td>14</td>\n",
       "    </tr>\n",
       "    <tr>\n",
       "      <th>6</th>\n",
       "      <td>Turkana</td>\n",
       "      <td>6</td>\n",
       "    </tr>\n",
       "    <tr>\n",
       "      <th>2</th>\n",
       "      <td>Busia</td>\n",
       "      <td>4</td>\n",
       "    </tr>\n",
       "    <tr>\n",
       "      <th>4</th>\n",
       "      <td>TaitaTaveta</td>\n",
       "      <td>2</td>\n",
       "    </tr>\n",
       "    <tr>\n",
       "      <th>7</th>\n",
       "      <td>Kajiado</td>\n",
       "      <td>2</td>\n",
       "    </tr>\n",
       "    <tr>\n",
       "      <th>1</th>\n",
       "      <td>Kilifi</td>\n",
       "      <td>1</td>\n",
       "    </tr>\n",
       "    <tr>\n",
       "      <th>5</th>\n",
       "      <td>Kiambu</td>\n",
       "      <td>1</td>\n",
       "    </tr>\n",
       "  </tbody>\n",
       "</table>\n",
       "</div>"
      ],
      "text/plain": [
       "         County  New Positive cases\n",
       "0      Nairobi                   29\n",
       "3      Mombasa                   14\n",
       "6      Turkana                    6\n",
       "2        Busia                    4\n",
       "4  TaitaTaveta                    2\n",
       "7      Kajiado                    2\n",
       "1        Kilifi                   1\n",
       "5        Kiambu                   1"
      ]
     },
     "execution_count": 11,
     "metadata": {},
     "output_type": "execute_result"
    }
   ],
   "source": [
    "pd_day.sort_values(by='New Positive cases',ascending=False)"
   ]
  }
 ],
 "metadata": {
  "kernelspec": {
   "display_name": "Python 3",
   "language": "python",
   "name": "python3"
  },
  "language_info": {
   "codemirror_mode": {
    "name": "ipython",
    "version": 3
   },
   "file_extension": ".py",
   "mimetype": "text/x-python",
   "name": "python",
   "nbconvert_exporter": "python",
   "pygments_lexer": "ipython3",
   "version": "3.6.6"
  }
 },
 "nbformat": 4,
 "nbformat_minor": 5
}
