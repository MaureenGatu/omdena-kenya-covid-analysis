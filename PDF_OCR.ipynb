{
  "nbformat": 4,
  "nbformat_minor": 0,
  "metadata": {
    "colab": {
      "name": " PDF_OCR.ipynb",
      "provenance": []
    },
    "kernelspec": {
      "name": "python3",
      "display_name": "Python 3"
    },
    "language_info": {
      "name": "python"
    },
    "accelerator": "GPU"
  },
  "cells": [
    {
      "cell_type": "markdown",
      "metadata": {
        "id": "ClOQuULUQSy3"
      },
      "source": [
        "# Convert PDF to OCR Searchable PDF !"
      ]
    },
    {
      "cell_type": "markdown",
      "metadata": {
        "id": "8m9DpYPjgpv-"
      },
      "source": [
        "You can reduce the lib imports section (but don't forget to run it)."
      ]
    },
    {
      "cell_type": "code",
      "metadata": {
        "colab": {
          "base_uri": "https://localhost:8080/"
        },
        "id": "2i4Mw3Yd_6Qx",
        "outputId": "8067a746-c517-42e7-9fec-ab54647e4cc4"
      },
      "source": [
        "\n",
        "from google.colab import drive\n",
        "drive.mount('/content/drive')"
      ],
      "execution_count": 1,
      "outputs": [
        {
          "output_type": "stream",
          "name": "stdout",
          "text": [
            "Mounted at /content/drive\n"
          ]
        }
      ]
    },
    {
      "cell_type": "markdown",
      "metadata": {
        "id": "nr0tFRNcQX0p"
      },
      "source": [
        "## Lib imports"
      ]
    },
    {
      "cell_type": "markdown",
      "metadata": {
        "id": "TkyND3wwdX3x"
      },
      "source": [
        "Main OCR Lib can be found here : https://github.com/jbarlow83/OCRmyPDF \n",
        "Everything else is a compulsory dependency."
      ]
    },
    {
      "cell_type": "code",
      "metadata": {
        "colab": {
          "base_uri": "https://localhost:8080/"
        },
        "id": "sBl8EFSDPFR0",
        "outputId": "85e08635-1895-4105-ec5c-0cfedde95a4a"
      },
      "source": [
        "! apt install tesseract-ocr\n",
        "! apt install libtesseract-dev"
      ],
      "execution_count": 2,
      "outputs": [
        {
          "output_type": "stream",
          "name": "stdout",
          "text": [
            "Reading package lists... Done\n",
            "Building dependency tree       \n",
            "Reading state information... Done\n",
            "The following additional packages will be installed:\n",
            "  tesseract-ocr-eng tesseract-ocr-osd\n",
            "The following NEW packages will be installed:\n",
            "  tesseract-ocr tesseract-ocr-eng tesseract-ocr-osd\n",
            "0 upgraded, 3 newly installed, 0 to remove and 37 not upgraded.\n",
            "Need to get 4,795 kB of archives.\n",
            "After this operation, 15.8 MB of additional disk space will be used.\n",
            "Get:1 http://archive.ubuntu.com/ubuntu bionic/universe amd64 tesseract-ocr-eng all 4.00~git24-0e00fe6-1.2 [1,588 kB]\n",
            "Get:2 http://archive.ubuntu.com/ubuntu bionic/universe amd64 tesseract-ocr-osd all 4.00~git24-0e00fe6-1.2 [2,989 kB]\n",
            "Get:3 http://archive.ubuntu.com/ubuntu bionic/universe amd64 tesseract-ocr amd64 4.00~git2288-10f4998a-2 [218 kB]\n",
            "Fetched 4,795 kB in 1s (3,720 kB/s)\n",
            "Selecting previously unselected package tesseract-ocr-eng.\n",
            "(Reading database ... 155219 files and directories currently installed.)\n",
            "Preparing to unpack .../tesseract-ocr-eng_4.00~git24-0e00fe6-1.2_all.deb ...\n",
            "Unpacking tesseract-ocr-eng (4.00~git24-0e00fe6-1.2) ...\n",
            "Selecting previously unselected package tesseract-ocr-osd.\n",
            "Preparing to unpack .../tesseract-ocr-osd_4.00~git24-0e00fe6-1.2_all.deb ...\n",
            "Unpacking tesseract-ocr-osd (4.00~git24-0e00fe6-1.2) ...\n",
            "Selecting previously unselected package tesseract-ocr.\n",
            "Preparing to unpack .../tesseract-ocr_4.00~git2288-10f4998a-2_amd64.deb ...\n",
            "Unpacking tesseract-ocr (4.00~git2288-10f4998a-2) ...\n",
            "Setting up tesseract-ocr-osd (4.00~git24-0e00fe6-1.2) ...\n",
            "Setting up tesseract-ocr-eng (4.00~git24-0e00fe6-1.2) ...\n",
            "Setting up tesseract-ocr (4.00~git2288-10f4998a-2) ...\n",
            "Processing triggers for man-db (2.8.3-2ubuntu0.1) ...\n",
            "Reading package lists... Done\n",
            "Building dependency tree       \n",
            "Reading state information... Done\n",
            "The following additional packages will be installed:\n",
            "  libleptonica-dev\n",
            "The following NEW packages will be installed:\n",
            "  libleptonica-dev libtesseract-dev\n",
            "0 upgraded, 2 newly installed, 0 to remove and 37 not upgraded.\n",
            "Need to get 2,755 kB of archives.\n",
            "After this operation, 13.8 MB of additional disk space will be used.\n",
            "Get:1 http://archive.ubuntu.com/ubuntu bionic/universe amd64 libleptonica-dev amd64 1.75.3-3 [1,308 kB]\n",
            "Get:2 http://archive.ubuntu.com/ubuntu bionic/universe amd64 libtesseract-dev amd64 4.00~git2288-10f4998a-2 [1,447 kB]\n",
            "Fetched 2,755 kB in 1s (2,285 kB/s)\n",
            "Selecting previously unselected package libleptonica-dev.\n",
            "(Reading database ... 155266 files and directories currently installed.)\n",
            "Preparing to unpack .../libleptonica-dev_1.75.3-3_amd64.deb ...\n",
            "Unpacking libleptonica-dev (1.75.3-3) ...\n",
            "Selecting previously unselected package libtesseract-dev.\n",
            "Preparing to unpack .../libtesseract-dev_4.00~git2288-10f4998a-2_amd64.deb ...\n",
            "Unpacking libtesseract-dev (4.00~git2288-10f4998a-2) ...\n",
            "Setting up libleptonica-dev (1.75.3-3) ...\n",
            "Setting up libtesseract-dev (4.00~git2288-10f4998a-2) ...\n"
          ]
        }
      ]
    },
    {
      "cell_type": "code",
      "metadata": {
        "id": "RWdJNvEfOpWb",
        "colab": {
          "base_uri": "https://localhost:8080/"
        },
        "outputId": "ccfd9932-3f38-47fd-d999-7c1af58da5e8"
      },
      "source": [
        "!pip install pytesseract"
      ],
      "execution_count": 3,
      "outputs": [
        {
          "output_type": "stream",
          "name": "stdout",
          "text": [
            "Collecting pytesseract\n",
            "  Downloading pytesseract-0.3.8.tar.gz (14 kB)\n",
            "Requirement already satisfied: Pillow in /usr/local/lib/python3.7/dist-packages (from pytesseract) (7.1.2)\n",
            "Building wheels for collected packages: pytesseract\n",
            "  Building wheel for pytesseract (setup.py) ... \u001b[?25l\u001b[?25hdone\n",
            "  Created wheel for pytesseract: filename=pytesseract-0.3.8-py2.py3-none-any.whl size=14072 sha256=56ba24eff72499d6e17560fefbf8ab1d86c79599e36eb25799332abbc6bdee0f\n",
            "  Stored in directory: /root/.cache/pip/wheels/a4/89/b9/3f11250225d0f90e5454fcc30fd1b7208db226850715aa9ace\n",
            "Successfully built pytesseract\n",
            "Installing collected packages: pytesseract\n",
            "Successfully installed pytesseract-0.3.8\n"
          ]
        }
      ]
    },
    {
      "cell_type": "code",
      "metadata": {
        "id": "paGWcxHCRSDE",
        "colab": {
          "base_uri": "https://localhost:8080/"
        },
        "outputId": "649acf05-0829-48f1-abe5-8a5b1d02917e"
      },
      "source": [
        "!apt install ghostscript"
      ],
      "execution_count": 4,
      "outputs": [
        {
          "output_type": "stream",
          "name": "stdout",
          "text": [
            "Reading package lists... Done\n",
            "Building dependency tree       \n",
            "Reading state information... Done\n",
            "The following additional packages will be installed:\n",
            "  fonts-droid-fallback fonts-noto-mono gsfonts libcupsfilters1 libcupsimage2\n",
            "  libgs9 libgs9-common libijs-0.35 libjbig2dec0 poppler-data\n",
            "Suggested packages:\n",
            "  fonts-noto ghostscript-x poppler-utils fonts-japanese-mincho\n",
            "  | fonts-ipafont-mincho fonts-japanese-gothic | fonts-ipafont-gothic\n",
            "  fonts-arphic-ukai fonts-arphic-uming fonts-nanum\n",
            "The following NEW packages will be installed:\n",
            "  fonts-droid-fallback fonts-noto-mono ghostscript gsfonts libcupsfilters1\n",
            "  libcupsimage2 libgs9 libgs9-common libijs-0.35 libjbig2dec0 poppler-data\n",
            "0 upgraded, 11 newly installed, 0 to remove and 37 not upgraded.\n",
            "Need to get 14.1 MB of archives.\n",
            "After this operation, 49.9 MB of additional disk space will be used.\n",
            "Get:1 http://archive.ubuntu.com/ubuntu bionic/main amd64 fonts-droid-fallback all 1:6.0.1r16-1.1 [1,805 kB]\n",
            "Get:2 http://archive.ubuntu.com/ubuntu bionic/main amd64 poppler-data all 0.4.8-2 [1,479 kB]\n",
            "Get:3 http://archive.ubuntu.com/ubuntu bionic/main amd64 fonts-noto-mono all 20171026-2 [75.5 kB]\n",
            "Get:4 http://archive.ubuntu.com/ubuntu bionic-updates/main amd64 libcupsimage2 amd64 2.2.7-1ubuntu2.8 [18.6 kB]\n",
            "Get:5 http://archive.ubuntu.com/ubuntu bionic/main amd64 libijs-0.35 amd64 0.35-13 [15.5 kB]\n",
            "Get:6 http://archive.ubuntu.com/ubuntu bionic/main amd64 libjbig2dec0 amd64 0.13-6 [55.9 kB]\n",
            "Get:7 http://archive.ubuntu.com/ubuntu bionic-updates/main amd64 libgs9-common all 9.26~dfsg+0-0ubuntu0.18.04.14 [5,092 kB]\n",
            "Get:8 http://archive.ubuntu.com/ubuntu bionic-updates/main amd64 libgs9 amd64 9.26~dfsg+0-0ubuntu0.18.04.14 [2,265 kB]\n",
            "Get:9 http://archive.ubuntu.com/ubuntu bionic-updates/main amd64 ghostscript amd64 9.26~dfsg+0-0ubuntu0.18.04.14 [51.3 kB]\n",
            "Get:10 http://archive.ubuntu.com/ubuntu bionic/main amd64 gsfonts all 1:8.11+urwcyr1.0.7~pre44-4.4 [3,120 kB]\n",
            "Get:11 http://archive.ubuntu.com/ubuntu bionic-updates/main amd64 libcupsfilters1 amd64 1.20.2-0ubuntu3.1 [108 kB]\n",
            "Fetched 14.1 MB in 2s (8,572 kB/s)\n",
            "Selecting previously unselected package fonts-droid-fallback.\n",
            "(Reading database ... 155377 files and directories currently installed.)\n",
            "Preparing to unpack .../00-fonts-droid-fallback_1%3a6.0.1r16-1.1_all.deb ...\n",
            "Unpacking fonts-droid-fallback (1:6.0.1r16-1.1) ...\n",
            "Selecting previously unselected package poppler-data.\n",
            "Preparing to unpack .../01-poppler-data_0.4.8-2_all.deb ...\n",
            "Unpacking poppler-data (0.4.8-2) ...\n",
            "Selecting previously unselected package fonts-noto-mono.\n",
            "Preparing to unpack .../02-fonts-noto-mono_20171026-2_all.deb ...\n",
            "Unpacking fonts-noto-mono (20171026-2) ...\n",
            "Selecting previously unselected package libcupsimage2:amd64.\n",
            "Preparing to unpack .../03-libcupsimage2_2.2.7-1ubuntu2.8_amd64.deb ...\n",
            "Unpacking libcupsimage2:amd64 (2.2.7-1ubuntu2.8) ...\n",
            "Selecting previously unselected package libijs-0.35:amd64.\n",
            "Preparing to unpack .../04-libijs-0.35_0.35-13_amd64.deb ...\n",
            "Unpacking libijs-0.35:amd64 (0.35-13) ...\n",
            "Selecting previously unselected package libjbig2dec0:amd64.\n",
            "Preparing to unpack .../05-libjbig2dec0_0.13-6_amd64.deb ...\n",
            "Unpacking libjbig2dec0:amd64 (0.13-6) ...\n",
            "Selecting previously unselected package libgs9-common.\n",
            "Preparing to unpack .../06-libgs9-common_9.26~dfsg+0-0ubuntu0.18.04.14_all.deb ...\n",
            "Unpacking libgs9-common (9.26~dfsg+0-0ubuntu0.18.04.14) ...\n",
            "Selecting previously unselected package libgs9:amd64.\n",
            "Preparing to unpack .../07-libgs9_9.26~dfsg+0-0ubuntu0.18.04.14_amd64.deb ...\n",
            "Unpacking libgs9:amd64 (9.26~dfsg+0-0ubuntu0.18.04.14) ...\n",
            "Selecting previously unselected package ghostscript.\n",
            "Preparing to unpack .../08-ghostscript_9.26~dfsg+0-0ubuntu0.18.04.14_amd64.deb ...\n",
            "Unpacking ghostscript (9.26~dfsg+0-0ubuntu0.18.04.14) ...\n",
            "Selecting previously unselected package gsfonts.\n",
            "Preparing to unpack .../09-gsfonts_1%3a8.11+urwcyr1.0.7~pre44-4.4_all.deb ...\n",
            "Unpacking gsfonts (1:8.11+urwcyr1.0.7~pre44-4.4) ...\n",
            "Selecting previously unselected package libcupsfilters1:amd64.\n",
            "Preparing to unpack .../10-libcupsfilters1_1.20.2-0ubuntu3.1_amd64.deb ...\n",
            "Unpacking libcupsfilters1:amd64 (1.20.2-0ubuntu3.1) ...\n",
            "Setting up libgs9-common (9.26~dfsg+0-0ubuntu0.18.04.14) ...\n",
            "Setting up fonts-droid-fallback (1:6.0.1r16-1.1) ...\n",
            "Setting up gsfonts (1:8.11+urwcyr1.0.7~pre44-4.4) ...\n",
            "Setting up poppler-data (0.4.8-2) ...\n",
            "Setting up fonts-noto-mono (20171026-2) ...\n",
            "Setting up libcupsfilters1:amd64 (1.20.2-0ubuntu3.1) ...\n",
            "Setting up libcupsimage2:amd64 (2.2.7-1ubuntu2.8) ...\n",
            "Setting up libjbig2dec0:amd64 (0.13-6) ...\n",
            "Setting up libijs-0.35:amd64 (0.35-13) ...\n",
            "Setting up libgs9:amd64 (9.26~dfsg+0-0ubuntu0.18.04.14) ...\n",
            "Setting up ghostscript (9.26~dfsg+0-0ubuntu0.18.04.14) ...\n",
            "Processing triggers for man-db (2.8.3-2ubuntu0.1) ...\n",
            "Processing triggers for fontconfig (2.12.6-0ubuntu2) ...\n",
            "Processing triggers for libc-bin (2.27-3ubuntu1.3) ...\n",
            "/sbin/ldconfig.real: /usr/local/lib/python3.7/dist-packages/ideep4py/lib/libmkldnn.so.0 is not a symbolic link\n",
            "\n"
          ]
        }
      ]
    },
    {
      "cell_type": "code",
      "metadata": {
        "id": "-r5OBayiN0AJ",
        "colab": {
          "base_uri": "https://localhost:8080/",
          "height": 0
        },
        "outputId": "163f3a89-805c-43b8-cda4-57d3c2020439"
      },
      "source": [
        "!pip install ocrmypdf"
      ],
      "execution_count": 5,
      "outputs": [
        {
          "output_type": "stream",
          "name": "stdout",
          "text": [
            "Collecting ocrmypdf\n",
            "  Downloading ocrmypdf-12.7.2-py36-none-any.whl (141 kB)\n",
            "\u001b[K     |████████████████████████████████| 141 kB 5.4 MB/s \n",
            "\u001b[?25hRequirement already satisfied: importlib-metadata>=4 in /usr/local/lib/python3.7/dist-packages (from ocrmypdf) (4.8.1)\n",
            "Requirement already satisfied: cffi>=1.9.1 in /usr/local/lib/python3.7/dist-packages (from ocrmypdf) (1.15.0)\n",
            "Requirement already satisfied: tqdm>=4 in /usr/local/lib/python3.7/dist-packages (from ocrmypdf) (4.62.3)\n",
            "Collecting pikepdf>=2.10.0\n",
            "  Downloading pikepdf-4.0.1.post1-cp37-cp37m-manylinux_2_17_x86_64.manylinux2014_x86_64.whl (2.0 MB)\n",
            "\u001b[K     |████████████████████████████████| 2.0 MB 48.3 MB/s \n",
            "\u001b[?25hCollecting pdfminer.six!=20200720,<=20211012,>=20191110\n",
            "  Downloading pdfminer.six-20211012-py3-none-any.whl (5.6 MB)\n",
            "\u001b[K     |████████████████████████████████| 5.6 MB 7.9 MB/s \n",
            "\u001b[?25hCollecting reportlab>=3.5.66\n",
            "  Downloading reportlab-3.6.2-cp37-cp37m-manylinux_2_17_x86_64.manylinux2014_x86_64.whl (2.7 MB)\n",
            "\u001b[K     |████████████████████████████████| 2.7 MB 36.9 MB/s \n",
            "\u001b[?25hCollecting Pillow>=8.2.0\n",
            "  Downloading Pillow-8.4.0-cp37-cp37m-manylinux_2_17_x86_64.manylinux2014_x86_64.whl (3.1 MB)\n",
            "\u001b[K     |████████████████████████████████| 3.1 MB 32.6 MB/s \n",
            "\u001b[?25hCollecting coloredlogs>=14.0\n",
            "  Downloading coloredlogs-15.0.1-py2.py3-none-any.whl (46 kB)\n",
            "\u001b[K     |████████████████████████████████| 46 kB 2.7 MB/s \n",
            "\u001b[?25hCollecting img2pdf<0.5,>=0.3.0\n",
            "  Downloading img2pdf-0.4.3.tar.gz (98 kB)\n",
            "\u001b[K     |████████████████████████████████| 98 kB 6.2 MB/s \n",
            "\u001b[?25hRequirement already satisfied: importlib-resources>=5 in /usr/local/lib/python3.7/dist-packages (from ocrmypdf) (5.4.0)\n",
            "Collecting pluggy<2,>=0.13.0\n",
            "  Downloading pluggy-1.0.0-py2.py3-none-any.whl (13 kB)\n",
            "Requirement already satisfied: pycparser in /usr/local/lib/python3.7/dist-packages (from cffi>=1.9.1->ocrmypdf) (2.20)\n",
            "Collecting humanfriendly>=9.1\n",
            "  Downloading humanfriendly-10.0-py2.py3-none-any.whl (86 kB)\n",
            "\u001b[K     |████████████████████████████████| 86 kB 5.4 MB/s \n",
            "\u001b[?25hRequirement already satisfied: zipp>=0.5 in /usr/local/lib/python3.7/dist-packages (from importlib-metadata>=4->ocrmypdf) (3.6.0)\n",
            "Requirement already satisfied: typing-extensions>=3.6.4 in /usr/local/lib/python3.7/dist-packages (from importlib-metadata>=4->ocrmypdf) (3.10.0.2)\n",
            "Collecting cryptography\n",
            "  Downloading cryptography-35.0.0-cp36-abi3-manylinux_2_24_x86_64.whl (3.5 MB)\n",
            "\u001b[K     |████████████████████████████████| 3.5 MB 36.6 MB/s \n",
            "\u001b[?25hRequirement already satisfied: chardet in /usr/local/lib/python3.7/dist-packages (from pdfminer.six!=20200720,<=20211012,>=20191110->ocrmypdf) (3.0.4)\n",
            "Requirement already satisfied: lxml>=4.0 in /usr/local/lib/python3.7/dist-packages (from pikepdf>=2.10.0->ocrmypdf) (4.2.6)\n",
            "Building wheels for collected packages: img2pdf\n",
            "  Building wheel for img2pdf (setup.py) ... \u001b[?25l\u001b[?25hdone\n",
            "  Created wheel for img2pdf: filename=img2pdf-0.4.3-py3-none-any.whl size=43712 sha256=d2f69d6e6c3cc3b94182386afb58c360f9aed5ecb61f0e4dc3886f74c5e4db0e\n",
            "  Stored in directory: /root/.cache/pip/wheels/d4/79/c5/74a9ae2eb3a213b2f56712c91b166ef5ad1751f5a049cef8ef\n",
            "Successfully built img2pdf\n",
            "Installing collected packages: Pillow, pikepdf, humanfriendly, cryptography, reportlab, pluggy, pdfminer.six, img2pdf, coloredlogs, ocrmypdf\n",
            "  Attempting uninstall: Pillow\n",
            "    Found existing installation: Pillow 7.1.2\n",
            "    Uninstalling Pillow-7.1.2:\n",
            "      Successfully uninstalled Pillow-7.1.2\n",
            "  Attempting uninstall: pluggy\n",
            "    Found existing installation: pluggy 0.7.1\n",
            "    Uninstalling pluggy-0.7.1:\n",
            "      Successfully uninstalled pluggy-0.7.1\n",
            "\u001b[31mERROR: pip's dependency resolver does not currently take into account all the packages that are installed. This behaviour is the source of the following dependency conflicts.\n",
            "pytest 3.6.4 requires pluggy<0.8,>=0.5, but you have pluggy 1.0.0 which is incompatible.\n",
            "datascience 0.10.6 requires folium==0.2.1, but you have folium 0.8.3 which is incompatible.\n",
            "albumentations 0.1.12 requires imgaug<0.2.7,>=0.2.5, but you have imgaug 0.2.9 which is incompatible.\u001b[0m\n",
            "Successfully installed Pillow-8.4.0 coloredlogs-15.0.1 cryptography-35.0.0 humanfriendly-10.0 img2pdf-0.4.3 ocrmypdf-12.7.2 pdfminer.six-20211012 pikepdf-4.0.1.post1 pluggy-1.0.0 reportlab-3.6.2\n"
          ]
        },
        {
          "output_type": "display_data",
          "data": {
            "application/vnd.colab-display-data+json": {
              "pip_warning": {
                "packages": [
                  "PIL"
                ]
              }
            }
          },
          "metadata": {}
        }
      ]
    },
    {
      "cell_type": "code",
      "metadata": {
        "id": "HYDNbBrEN_GZ",
        "colab": {
          "base_uri": "https://localhost:8080/"
        },
        "outputId": "25568504-a1b4-4512-aa33-855a14a923f4"
      },
      "source": [
        "!ocrmypdf --help"
      ],
      "execution_count": 6,
      "outputs": [
        {
          "output_type": "stream",
          "name": "stdout",
          "text": [
            "usage: ocrmypdf [-h] [-l LANGUAGES] [--image-dpi DPI]\n",
            "                [--output-type {pdfa,pdf,pdfa-1,pdfa-2,pdfa-3,none}]\n",
            "                [--sidecar [FILE]] [--version] [-j N] [-q] [-v [VERBOSE]]\n",
            "                [--title TITLE] [--author AUTHOR] [--subject SUBJECT]\n",
            "                [--keywords KEYWORDS] [-r] [--remove-background] [-d] [-c]\n",
            "                [-i] [--unpaper-args UNPAPER_ARGS] [--oversample DPI]\n",
            "                [--remove-vectors] [--threshold] [-f] [-s] [--redo-ocr]\n",
            "                [--skip-big MPixels] [-O {0,1,2,3}] [--jpeg-quality Q]\n",
            "                [--png-quality Q] [--jbig2-lossy] [--pages PAGES]\n",
            "                [--max-image-mpixels MPixels]\n",
            "                [--pdf-renderer {auto,hocr,sandwich,hocrdebug}]\n",
            "                [--rotate-pages-threshold CONFIDENCE]\n",
            "                [--pdfa-image-compression {auto,jpeg,lossless}]\n",
            "                [--fast-web-view MEGABYTES] [--plugin PLUGINS] [-k]\n",
            "                [--tesseract-config CFG] [--tesseract-pagesegmode PSM]\n",
            "                [--tesseract-oem MODE] [--tesseract-timeout SECONDS]\n",
            "                [--user-words FILE] [--user-patterns FILE]\n",
            "                input_pdf_or_image output_pdf\n",
            "\n",
            "Generates a searchable PDF or PDF/A from a regular PDF.\n",
            "\n",
            "OCRmyPDF rasterizes each page of the input PDF, optionally corrects page\n",
            "rotation and performs image processing, runs the Tesseract OCR engine on the\n",
            "image, and then creates a PDF from the OCR information.\n",
            "\n",
            "positional arguments:\n",
            "  input_pdf_or_image    PDF file containing the images to be OCRed (or '-' to\n",
            "                        read from standard input)\n",
            "  output_pdf            Output searchable PDF file (or '-' to write to\n",
            "                        standard output). Existing files will be ovewritten.\n",
            "                        If same as input file, the input file will be updated\n",
            "                        only if processing is successful.\n",
            "\n",
            "optional arguments:\n",
            "  -h, --help            show this help message and exit\n",
            "  -l LANGUAGES, --language LANGUAGES\n",
            "                        Language(s) of the file to be OCRed (see tesseract\n",
            "                        --list-langs for all language packs installed in your\n",
            "                        system). Use -l eng+deu for multiple languages.\n",
            "  --image-dpi DPI       For input image instead of PDF, use this DPI instead\n",
            "                        of file's.\n",
            "  --output-type {pdfa,pdf,pdfa-1,pdfa-2,pdfa-3,none}\n",
            "                        Choose output type. 'pdfa' creates a PDF/A-2b\n",
            "                        compliant file for long term archiving (default,\n",
            "                        recommended) but may not suitable for users who want\n",
            "                        their file altered as little as possible. 'pdfa' also\n",
            "                        has problems with full Unicode text. 'pdf' attempts to\n",
            "                        preserve file contents as much as possible. 'pdf-a1'\n",
            "                        creates a PDF/A1-b file. 'pdf-a2' is equivalent to\n",
            "                        'pdfa'. 'pdf-a3' creates a PDF/A3-b file. 'none' will\n",
            "                        produce no output, which may be helpful if only the\n",
            "                        --sidecar is desired.\n",
            "  --sidecar [FILE]      Generate sidecar text files that contain the same text\n",
            "                        recognized by Tesseract. This may be useful for\n",
            "                        building a OCR text database. If FILE is omitted, the\n",
            "                        sidecar file be named {output_file}.txt; the next\n",
            "                        argument must NOT be the name of the input PDF. If\n",
            "                        FILE is set to '-', the sidecar is written to stdout\n",
            "                        (a convenient way to preview OCR quality). The output\n",
            "                        file and sidecar may not both use stdout at the same\n",
            "                        time.\n",
            "  --version             Print program version and exit\n",
            "\n",
            "Job control options:\n",
            "  -j N, --jobs N        Use up to N CPU cores simultaneously (default: use\n",
            "                        all).\n",
            "  -q, --quiet           Suppress INFO messages\n",
            "  -v [VERBOSE], --verbose [VERBOSE]\n",
            "                        Print more verbose messages for each additional\n",
            "                        verbose level. Use `-v 1` typically for much more\n",
            "                        detailed logging. Higher numbers are probably only\n",
            "                        useful in debugging.\n",
            "\n",
            "Metadata options:\n",
            "  Set output PDF/A metadata (default: copy input document's metadata)\n",
            "\n",
            "  --title TITLE         Set document title (place multiple words in quotes)\n",
            "  --author AUTHOR       Set document author\n",
            "  --subject SUBJECT     Set document subject description\n",
            "  --keywords KEYWORDS   Set document keywords\n",
            "\n",
            "Image preprocessing options:\n",
            "  Options to improve the quality of the final PDF and OCR\n",
            "\n",
            "  -r, --rotate-pages    Automatically rotate pages based on detected text\n",
            "                        orientation\n",
            "  --remove-background   Attempt to remove background from gray or color pages,\n",
            "                        setting it to white\n",
            "  -d, --deskew          Deskew each page before performing OCR\n",
            "  -c, --clean           Clean pages from scanning artifacts before performing\n",
            "                        OCR, and send the cleaned page to OCR, but do not\n",
            "                        include the cleaned page in the output\n",
            "  -i, --clean-final     Clean page as above, and incorporate the cleaned image\n",
            "                        in the final PDF. Might remove desired content.\n",
            "  --unpaper-args UNPAPER_ARGS\n",
            "                        A quoted string of arguments to pass to unpaper.\n",
            "                        Requires --clean. Example: --unpaper-args '--layout\n",
            "                        double'.\n",
            "  --oversample DPI      Oversample images to at least the specified DPI, to\n",
            "                        improve OCR results slightly\n",
            "  --remove-vectors      EXPERIMENTAL. Mask out any vector objects in the PDF\n",
            "                        so that they will not be included in OCR. This can\n",
            "                        eliminate false characters.\n",
            "  --threshold           EXPERIMENTAL. Threshold image to 1bpp before sending\n",
            "                        it to Tesseract for OCR. Can improve OCR quality\n",
            "                        compared to Tesseract's thresholder.\n",
            "\n",
            "OCR options:\n",
            "  Control how OCR is applied\n",
            "\n",
            "  -f, --force-ocr       Rasterize any text or vector objects on each page,\n",
            "                        apply OCR, and save the rastered output (this rewrites\n",
            "                        the PDF)\n",
            "  -s, --skip-text       Skip OCR on any pages that already contain text, but\n",
            "                        include the page in final output; useful for PDFs that\n",
            "                        contain a mix of images, text pages, and/or previously\n",
            "                        OCRed pages\n",
            "  --redo-ocr            Attempt to detect and remove the hidden OCR layer from\n",
            "                        files that were previously OCRed with OCRmyPDF or\n",
            "                        another program. Apply OCR to text found in raster\n",
            "                        images. Existing visible text objects will not be\n",
            "                        changed. If there is no existing OCR, OCR will be\n",
            "                        added.\n",
            "  --skip-big MPixels    Skip OCR on pages larger than the specified amount of\n",
            "                        megapixels, but include skipped pages in final output\n",
            "\n",
            "Optimization options:\n",
            "  Control how the PDF is optimized after OCR\n",
            "\n",
            "  -O {0,1,2,3}, --optimize {0,1,2,3}\n",
            "                        Control how PDF is optimized after processing:0 - do\n",
            "                        not optimize; 1 - do safe, lossless optimizations\n",
            "                        (default); 2 - do lossy JPEG and JPEG2000\n",
            "                        optimizations; 3 - do more aggressive lossy JPEG and\n",
            "                        JPEG2000 optimizations. To enable lossy JBIG2, see\n",
            "                        --jbig2-lossy.\n",
            "  --jpeg-quality Q      Adjust JPEG quality level for JPEG optimization. 100\n",
            "                        is best quality and largest output size; 1 is lowest\n",
            "                        quality and smallest output; 0 uses the default.\n",
            "  --png-quality Q       Adjust PNG quality level to use when quantizing PNGs.\n",
            "                        Values have same meaning as with --jpeg-quality\n",
            "  --jbig2-lossy         Enable JBIG2 lossy mode (better compression, not\n",
            "                        suitable for some use cases - see documentation). Only\n",
            "                        takes effect if --optimize 1 or higher is also\n",
            "                        enabled.\n",
            "\n",
            "Advanced:\n",
            "  Advanced options to control OCRmyPDF\n",
            "\n",
            "  --pages PAGES         Limit OCR to the specified pages (ranges or comma\n",
            "                        separated), skipping others\n",
            "  --max-image-mpixels MPixels\n",
            "                        Set maximum number of pixels to unpack before treating\n",
            "                        an image as a decompression bomb\n",
            "  --pdf-renderer {auto,hocr,sandwich,hocrdebug}\n",
            "                        Choose OCR PDF renderer - the default option is to let\n",
            "                        OCRmyPDF choose. See documentation for discussion.\n",
            "  --rotate-pages-threshold CONFIDENCE\n",
            "                        Only rotate pages when confidence is above this value\n",
            "                        (arbitrary units reported by tesseract)\n",
            "  --pdfa-image-compression {auto,jpeg,lossless}\n",
            "                        Specify how to compress images in the output PDF/A.\n",
            "                        'auto' lets OCRmyPDF decide. 'jpeg' changes all\n",
            "                        grayscale and color images to JPEG compression.\n",
            "                        'lossless' uses PNG-style lossless compression for all\n",
            "                        images. Monochrome images are always compressed using\n",
            "                        a lossless codec. Compression settings are applied to\n",
            "                        all pages, including those for which OCR was skipped.\n",
            "                        Not supported for --output-type=pdf ; that setting\n",
            "                        preserves the original compression of all images.\n",
            "  --fast-web-view MEGABYTES\n",
            "                        If the size of file is more than this threshold (in\n",
            "                        MB), then linearize the PDF for fast web viewing. This\n",
            "                        allows the PDF to be displayed before it is fully\n",
            "                        downloaded in web browsers, but increases the space\n",
            "                        required slightly. By default we skip this for small\n",
            "                        files which do not benefit. If the threshold is 0 it\n",
            "                        will be apply to all files. Set the threshold very\n",
            "                        high to disable.\n",
            "  --plugin PLUGINS      Name of plugin to import. Argument may be issued\n",
            "                        multiple times to import multiple plugins. Plugins may\n",
            "                        be specified as module names in Python syntax,\n",
            "                        provided they are installed in the same Python\n",
            "                        (virtual) environment as ocrmypdf; or you may give the\n",
            "                        path to the Python file that contains the plugin.\n",
            "                        Plugins must conform to the specification in the\n",
            "                        OCRmyPDF documentation.\n",
            "\n",
            "Debugging:\n",
            "  Arguments to help with troubleshooting and debugging\n",
            "\n",
            "  -k, --keep-temporary-files\n",
            "                        Keep temporary files (helpful for debugging)\n",
            "\n",
            "Tesseract:\n",
            "  Advanced control of Tesseract OCR\n",
            "\n",
            "  --tesseract-config CFG\n",
            "                        Additional Tesseract configuration files -- see\n",
            "                        documentation\n",
            "  --tesseract-pagesegmode PSM\n",
            "                        Set Tesseract page segmentation mode (see tesseract\n",
            "                        --help)\n",
            "  --tesseract-oem MODE  Set Tesseract 4.0 OCR engine mode: 0 - original\n",
            "                        Tesseract only; 1 - neural nets LSTM only; 2 -\n",
            "                        Tesseract + LSTM; 3 - default.\n",
            "  --tesseract-timeout SECONDS\n",
            "                        Give up on OCR after the timeout, but copy the\n",
            "                        preprocessed page into the final output\n",
            "  --user-words FILE     Specify the location of the Tesseract user words file.\n",
            "                        This is a list of words Tesseract should consider\n",
            "                        while performing OCR in addition to its standard\n",
            "                        language dictionaries. This can improve OCR quality\n",
            "                        especially for specialized and technical documents.\n",
            "  --user-patterns FILE  Specify the location of the Tesseract user patterns\n",
            "                        file.\n",
            "\n",
            "OCRmyPDF attempts to keep the output file at about the same size.  If a file\n",
            "contains losslessly compressed images, and images in the output file will be\n",
            "losslessly compressed as well.\n",
            "\n",
            "PDF is a page description file that attempts to preserve a layout exactly.\n",
            "A PDF can contain vector objects (such as text or lines) and raster objects\n",
            "(images).  A page might have multiple images.  OCRmyPDF is prepared to deal\n",
            "with the wide variety of PDFs that exist in the wild.\n",
            "\n",
            "When a PDF page contains text, OCRmyPDF assumes that the page has already\n",
            "been OCRed or is a \"born digital\" page that should not be OCRed.  The default\n",
            "behavior is to exit in this case without producing a file.  You can use the\n",
            "option --skip-text to ignore pages with text, or --force-ocr to rasterize\n",
            "all objects on the page and produce an image-only PDF as output.\n",
            "\n",
            "    ocrmypdf --skip-text file_with_some_text_pages.pdf output.pdf\n",
            "\n",
            "    ocrmypdf --force-ocr word_document.pdf output.pdf\n",
            "\n",
            "If you are concerned about long-term archiving of PDFs, use the default option\n",
            "--output-type pdfa which converts the PDF to a standardized PDF/A-2b.  This\n",
            "removes some features from the PDF such as Javascript or forms. If you want to\n",
            "minimize the number of changes made to your PDF, use --output-type pdf.\n",
            "\n",
            "If OCRmyPDF is given an image file as input, it will attempt to convert the\n",
            "image to a PDF before processing.  For more control over the conversion of\n",
            "images to PDF, use the Python package img2pdf or other image to PDF software.\n",
            "\n",
            "For example, this command uses img2pdf to convert all .png files beginning\n",
            "with the 'page' prefix to a PDF, fitting each image on A4-sized paper, and\n",
            "sending the result to OCRmyPDF through a pipe.\n",
            "\n",
            "    img2pdf --pagesize A4 page*.png | ocrmypdf - myfile.pdf\n",
            "\n",
            "Online documentation is located at:\n",
            "    https://ocrmypdf.readthedocs.io/en/latest/introduction.html\n"
          ]
        }
      ]
    },
    {
      "cell_type": "code",
      "metadata": {
        "id": "RAMPPNQYRghq",
        "colab": {
          "base_uri": "https://localhost:8080/",
          "height": 0
        },
        "outputId": "61b1603c-0d00-4896-8ea4-f378ffb3d058"
      },
      "source": [
        "from ctypes.util import find_library\n",
        "find_library(\"gs\")"
      ],
      "execution_count": 7,
      "outputs": [
        {
          "output_type": "execute_result",
          "data": {
            "application/vnd.google.colaboratory.intrinsic+json": {
              "type": "string"
            },
            "text/plain": [
              "'libgs.so.9'"
            ]
          },
          "metadata": {},
          "execution_count": 7
        }
      ]
    },
    {
      "cell_type": "code",
      "metadata": {
        "id": "6vVNOL-yYhb2"
      },
      "source": [
        "#optional imports to make a pretty list\n",
        "import pandas as pd\n",
        "%load_ext google.colab.data_table"
      ],
      "execution_count": 8,
      "outputs": []
    },
    {
      "cell_type": "code",
      "metadata": {
        "id": "i-VxYtJ-jARe"
      },
      "source": [
        "!mkdir input_papers\n",
        "!mkdir output_papers"
      ],
      "execution_count": 9,
      "outputs": []
    },
    {
      "cell_type": "markdown",
      "metadata": {
        "id": "JFIUgo09Qb0d"
      },
      "source": [
        "## OCR Execution"
      ]
    },
    {
      "cell_type": "markdown",
      "metadata": {
        "id": "sEActy1Fcs9-"
      },
      "source": [
        "<==== click on the Folder logo.  \n",
        "Drag and drop you files in the \"input_papers\" folder.  \n",
        "The output files will be located in the \"output_papers\" folder.  \n",
        "(If the folders are not visible, refresh the explorer with the refresh button)"
      ]
    },
    {
      "cell_type": "code",
      "metadata": {
        "id": "mSqutb7ZVoA4"
      },
      "source": [
        "import os\n",
        "file_list = []\n",
        "\n",
        "input_folder_path = \"/content/drive/MyDrive/Data Science/Covid-data-by-age/data_pdfs2\"\n",
        "output_folder_path = \"/content/drive/MyDrive/Data Science/output_papers\"\n",
        "\n",
        "for filename in os.listdir(input_folder_path):\n",
        "    if filename.endswith(\"pdf\"):\n",
        "      if filename not in  os.listdir(output_folder_path):\n",
        "        file_list.append(filename)\n",
        "\n",
        "\n",
        "import os\n",
        "print(len([item for item in os.listdir(input_folder_path)]))\n",
        "print(len([item for item in os.listdir(output_folder_path)]))\n",
        "print(\"The following files will be converted : \") \n",
        "hh = pd.DataFrame(file_list, columns=[\"Filename\"])\n",
        "print(hh.shape)\n",
        "hh\n"
      ],
      "execution_count": null,
      "outputs": []
    },
    {
      "cell_type": "code",
      "metadata": {
        "colab": {
          "base_uri": "https://localhost:8080/"
        },
        "id": "nENCuQw4gKwK",
        "outputId": "12676870-addf-4b8b-8b12-0f40667f0261"
      },
      "source": [
        "len(file_list)"
      ],
      "execution_count": 14,
      "outputs": [
        {
          "output_type": "execute_result",
          "data": {
            "text/plain": [
              "0"
            ]
          },
          "metadata": {},
          "execution_count": 14
        }
      ]
    },
    {
      "cell_type": "markdown",
      "metadata": {
        "id": "2JY2Vjwuc9u5"
      },
      "source": [
        "Warning : several minutes per file, please check the above list before proceeding."
      ]
    },
    {
      "cell_type": "code",
      "metadata": {
        "id": "T6UZ_pALYo2b"
      },
      "source": [
        "for filename in file_list:\n",
        "  print(\"Converting : \" + filename)\n",
        "  input_filename = input_folder_path+'/'+filename\n",
        "  output_filename = output_folder_path+'/'+filename\n",
        "  !ocrmypdf --force-ocr \"{input_filename}\" \"{output_filename}\""
      ],
      "execution_count": null,
      "outputs": []
    }
  ]
}
